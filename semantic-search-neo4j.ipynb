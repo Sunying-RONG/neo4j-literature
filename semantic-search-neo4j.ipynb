{
 "cells": [
  {
   "cell_type": "code",
   "execution_count": 15,
   "id": "0bb98513-3df1-4eee-affb-f03d053707c3",
   "metadata": {},
   "outputs": [
    {
     "name": "stdout",
     "output_type": "stream",
     "text": [
      "Node Title: Monster, Similarity: 0.8238105635562389\n",
      "Node Title: Ghosthunters and the Muddy Monster of Doom!, Similarity: 0.8224171728675941\n",
      "Node Title: The Pizza Monster, Similarity: 0.8210599997262203\n",
      "Node Title: Monster Island, Similarity: 0.8173596532896527\n",
      "Node Title: Monster, Similarity: 0.8135308745981888\n",
      "Node Title: Demon in My View, Similarity: 0.813012501347968\n"
     ]
    }
   ],
   "source": [
    "from neo4j import GraphDatabase\n",
    "import numpy as np\n",
    "from openai import OpenAI\n",
    "client = OpenAI()\n",
    "\n",
    "# URI examples: \"neo4j://localhost\", \"neo4j+s://xxx.databases.neo4j.io\"\n",
    "URI = \"neo4j+ssc://eb30e9eb.databases.neo4j.io\"\n",
    "AUTH = (\"neo4j\", \"password\")\n",
    "embedding_model = \"text-embedding-ada-002\"\n",
    "\n",
    "\n",
    "def get_embedding(text, model=embedding_model):\n",
    "    text = text.replace(\"\\n\", \" \")\n",
    "    return client.embeddings.create(input=text, model=model).data[0].embedding\n",
    "\n",
    "def cosine_similarity(vec1, vec2):\n",
    "    if vec1 is None or vec2 is None:\n",
    "        return None\n",
    "    return np.dot(vec1, vec2) / (np.linalg.norm(vec1) * np.linalg.norm(vec2))\n",
    "# def cosine_similarity(vec1, vec2):\n",
    "#     vec1 = np.array(vec1)\n",
    "#     vec2 = np.array(vec2)\n",
    "#     dot_product = np.dot(vec1, vec2)\n",
    "#     norm_vec1 = np.linalg.norm(vec1)\n",
    "#     norm_vec2 = np.linalg.norm(vec2)\n",
    "#     return dot_product / (norm_vec1 * norm_vec2)\n",
    "    \n",
    "def get_node_embeddings(driver):\n",
    "    node_embeddings = []\n",
    "    query = \"MATCH (n:Book) RETURN n.title AS title, n.embedding AS embedding\"\n",
    "    with driver.session() as session:\n",
    "        results = session.run(query)\n",
    "        for record in results:\n",
    "            # if record['title'] == 'Betsy and Joe':\n",
    "            #     print(record['embedding'])\n",
    "            node_embeddings.append({\n",
    "                'title': record['title'],\n",
    "                'embedding': record['embedding']\n",
    "            })\n",
    "    return node_embeddings\n",
    "    \n",
    "\n",
    "def find_similar_nodes(text, top_n=5):\n",
    "    # Get the input text embedding\n",
    "    text_embedding = get_embedding(text)\n",
    "    if text_embedding is None:\n",
    "        raise ValueError(\"The embedding for the input text is None.\")\n",
    "    # Get node embeddings from Neo4j\n",
    "    node_embeddings = get_node_embeddings(driver)\n",
    "    # Calculate similarities\n",
    "    for node_embedding in node_embeddings:\n",
    "        # node_embedding['similarity'] = cosine_similarity(text_embedding, node_embedding['embedding'])\n",
    "        similarity = cosine_similarity(text_embedding, node_embedding['embedding'])\n",
    "        if similarity is not None:\n",
    "            node_embedding['similarity'] = similarity\n",
    "        # else:\n",
    "            # print(f\"Warning: Could not calculate similarity for node: {node_embedding['title']}\")\n",
    "    # Sort nodes by similarity\n",
    "    sorted_nodes = sorted([node_embedding for node_embedding in node_embeddings if 'similarity' in node_embedding], \n",
    "                          key=lambda x: x['similarity'], reverse=True)\n",
    "\n",
    "    # Return top N most similar nodes\n",
    "    return sorted_nodes[:top_n]\n",
    "\n",
    "\n",
    "with GraphDatabase.driver(URI, auth=AUTH) as driver:\n",
    "    driver.verify_connectivity()\n",
    "    # Example usage\n",
    "    top_nodes = find_similar_nodes(\"monster\", top_n=6)\n",
    "    for node in top_nodes:\n",
    "        print(f\"Node Title: {node['title']}, Similarity: {node['similarity']}\")\n"
   ]
  },
  {
   "cell_type": "code",
   "execution_count": null,
   "id": "9babac94-5a5d-434d-a898-732e60e0888e",
   "metadata": {},
   "outputs": [],
   "source": []
  }
 ],
 "metadata": {
  "kernelspec": {
   "display_name": "Python 3 (ipykernel)",
   "language": "python",
   "name": "python3"
  },
  "language_info": {
   "codemirror_mode": {
    "name": "ipython",
    "version": 3
   },
   "file_extension": ".py",
   "mimetype": "text/x-python",
   "name": "python",
   "nbconvert_exporter": "python",
   "pygments_lexer": "ipython3",
   "version": "3.12.3"
  }
 },
 "nbformat": 4,
 "nbformat_minor": 5
}
